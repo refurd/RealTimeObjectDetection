{
 "cells": [
  {
   "cell_type": "code",
   "execution_count": 8,
   "metadata": {},
   "outputs": [],
   "source": [
    "#importálások\n",
    "import cv2\n",
    "import os\n",
    "import time\n",
    "import uuid\n",
    "from tkinter import filedialog\n",
    "from IPython.display import clear_output\n"
   ]
  },
  {
   "cell_type": "code",
   "execution_count": 2,
   "metadata": {},
   "outputs": [],
   "source": [
    "IMAGES_PATH = 'Tensorflow/workspace/images/collectedimages'"
   ]
  },
  {
   "cell_type": "code",
   "execution_count": 3,
   "metadata": {},
   "outputs": [],
   "source": [
    "labels = ['arm_fo', 'hand_fi', 'hand_pa', 'hand_po']\n",
    "number_imgs = 60"
   ]
  },
  {
   "cell_type": "code",
   "execution_count": 4,
   "metadata": {},
   "outputs": [],
   "source": [
    "\"\"\"for label in labels:\n",
    "    !mkdir {'Tensorflow\\workspace\\images\\collectedimages\\\\'+label}\n",
    "    cap = cv2.VideoCapture(0)\n",
    "    print('Collecting images for {}'.format(label))\n",
    "    time.sleep(2)\n",
    "    for imgnum in range(number_imgs):\n",
    "        ret, frame = cap.read()\n",
    "        time.sleep(2)\n",
    "        imgname = os.path.join(IMAGES_PATH, label, label+'.'+'{}.jpg'.format(str(uuid.uuid1())))\n",
    "        cv2.imwrite(imgname,frame)\n",
    "        cv2.imshow('frame', frame)\n",
    "        time.sleep(2)\n",
    "        \n",
    "        \n",
    "        cap.release()\"\"\"\n",
    "clear_output(wait=True)"
   ]
  },
  {
   "cell_type": "code",
   "execution_count": 9,
   "metadata": {},
   "outputs": [
    {
     "ename": "error",
     "evalue": "OpenCV(4.5.1) C:\\Users\\appveyor\\AppData\\Local\\Temp\\1\\pip-req-build-memyuvq3\\opencv\\modules\\highgui\\src\\window.cpp:634: error: (-2:Unspecified error) The function is not implemented. Rebuild the library with Windows, GTK+ 2.x or Cocoa support. If you are on Ubuntu or Debian, install libgtk2.0-dev and pkg-config, then re-run cmake or configure script in function 'cvNamedWindow'\n",
     "output_type": "error",
     "traceback": [
      "\u001b[1;31m---------------------------------------------------------------------------\u001b[0m",
      "\u001b[1;31merror\u001b[0m                                     Traceback (most recent call last)",
      "\u001b[1;32m<ipython-input-9-4958e39b2273>\u001b[0m in \u001b[0;36m<module>\u001b[1;34m\u001b[0m\n\u001b[0;32m      2\u001b[0m \u001b[0mkamera\u001b[0m\u001b[1;33m=\u001b[0m\u001b[1;36m0\u001b[0m   \u001b[1;31m# hányas kamerát használjuk? esetleg átírandó 1,2,3,...-ra\u001b[0m\u001b[1;33m\u001b[0m\u001b[1;33m\u001b[0m\u001b[0m\n\u001b[0;32m      3\u001b[0m \u001b[1;31m#----------------------\u001b[0m\u001b[1;33m\u001b[0m\u001b[1;33m\u001b[0m\u001b[1;33m\u001b[0m\u001b[0m\n\u001b[1;32m----> 4\u001b[1;33m \u001b[0mcv2\u001b[0m\u001b[1;33m.\u001b[0m\u001b[0mnamedWindow\u001b[0m\u001b[1;33m(\u001b[0m\u001b[1;34m\"Output\"\u001b[0m\u001b[1;33m)\u001b[0m \u001b[1;31m# egy ablak a feldolgozott képnek\u001b[0m\u001b[1;33m\u001b[0m\u001b[1;33m\u001b[0m\u001b[0m\n\u001b[0m\u001b[0;32m      5\u001b[0m \u001b[0mcap\u001b[0m \u001b[1;33m=\u001b[0m \u001b[0mcv2\u001b[0m\u001b[1;33m.\u001b[0m\u001b[0mVideoCapture\u001b[0m\u001b[1;33m(\u001b[0m\u001b[0mkamera\u001b[0m\u001b[1;33m)\u001b[0m \u001b[1;31m# kapcsolat létrehozása\u001b[0m\u001b[1;33m\u001b[0m\u001b[1;33m\u001b[0m\u001b[0m\n",
      "\u001b[1;31merror\u001b[0m: OpenCV(4.5.1) C:\\Users\\appveyor\\AppData\\Local\\Temp\\1\\pip-req-build-memyuvq3\\opencv\\modules\\highgui\\src\\window.cpp:634: error: (-2:Unspecified error) The function is not implemented. Rebuild the library with Windows, GTK+ 2.x or Cocoa support. If you are on Ubuntu or Debian, install libgtk2.0-dev and pkg-config, then re-run cmake or configure script in function 'cvNamedWindow'\n"
     ]
    }
   ],
   "source": [
    "#-------------- beállítások\n",
    "kamera=0   # hányas kamerát használjuk? esetleg átírandó 1,2,3,...-ra\n",
    "#----------------------\n",
    "cv2.namedWindow(\"Output\") # egy ablak a feldolgozott képnek\n",
    "cap = cv2.VideoCapture(kamera) # kapcsolat létrehozása"
   ]
  },
  {
   "cell_type": "code",
   "execution_count": 21,
   "metadata": {},
   "outputs": [
    {
     "name": "stdout",
     "output_type": "stream",
     "text": [
      "arm_fo\n",
      "hand_fi\n",
      "hand_pa\n",
      "hand_po\n"
     ]
    }
   ],
   "source": [
    "print(labels[0])\n",
    "print(labels[1])\n",
    "print(labels[2])\n",
    "print(labels[3])"
   ]
  },
  {
   "cell_type": "code",
   "execution_count": 22,
   "metadata": {},
   "outputs": [
    {
     "name": "stdout",
     "output_type": "stream",
     "text": [
      "1\n"
     ]
    }
   ],
   "source": [
    "ret, last_frame=cap.read()   # egy kép kezdetnek\n",
    "i = 1\n",
    "while(True):   # végtelen ciklus\n",
    "    pressedKey = cv2.waitKey(1) & 0xFF\n",
    "    ret, frame = cap.read() # aktuális kép a \"frame\"-be\n",
    "    #out_frame=255-frame   # kimenet= bemenet inverze\n",
    "    out_frame=cv2.absdiff(frame, last_frame)    # egyszerű művelet: különbség, mozgásérzékelés\n",
    "    # mostani kép megjegyzése, hogy később ez legyen az előző\n",
    "    last_frame=frame.copy()\n",
    "    # kijelzés\n",
    "    \n",
    "    if pressedKey == ord('q'):\n",
    "        break\n",
    "    elif pressedKey == ord('0'):\n",
    "        !mkdir {'Tensorflow\\workspace\\images\\collectedimages\\\\'+labels[0]}\n",
    "        imgname = os.path.join(IMAGES_PATH, labels[0], labels[0]+'.'+'{}.jpg'.format(str(uuid.uuid1())))\n",
    "        cv2.imwrite(imgname,out_frame)\n",
    "        i=i+1\n",
    "        continue\n",
    "    elif pressedKey == ord('1'):\n",
    "        !mkdir {'Tensorflow\\workspace\\images\\collectedimages\\\\'+labels[1]}\n",
    "        imgname = os.path.join(IMAGES_PATH, labels[1], labels[1]+'.'+'{}.jpg'.format(str(uuid.uuid1())))\n",
    "        cv2.imwrite(imgname,out_frame)\n",
    "        i=i+1\n",
    "        continue\n",
    "    elif pressedKey == ord('2'):\n",
    "        !mkdir {'Tensorflow\\workspace\\images\\collectedimages\\\\'+labels[2]}\n",
    "        imgname = os.path.join(IMAGES_PATH, labels[2], labels[2]+'.'+'{}.jpg'.format(str(uuid.uuid1())))\n",
    "        cv2.imwrite(imgname,out_frame)\n",
    "        i=i+1\n",
    "        continue\n",
    "    elif pressedKey == ord('3'):\n",
    "        !mkdir {'Tensorflow\\workspace\\images\\collectedimages\\\\'+labels[3]}\n",
    "        imgname = os.path.join(IMAGES_PATH, labels[3], labels[3]+'.'+'{}.jpg'.format(str(uuid.uuid1())))\n",
    "        cv2.imwrite(imgname,out_frame)\n",
    "        i=i+1\n",
    "        continue\n",
    "    clear_output(wait=True)\n",
    "    print(i)\n",
    "    if i==number_imgs+1:\n",
    "        i = 1\n",
    "    cv2.imshow('Output',out_frame)\n",
    "cap.release()\n",
    "cv2.destroyAllWindows()"
   ]
  },
  {
   "cell_type": "code",
   "execution_count": 8,
   "metadata": {},
   "outputs": [],
   "source": []
  },
  {
   "cell_type": "code",
   "execution_count": null,
   "metadata": {},
   "outputs": [],
   "source": []
  }
 ],
 "metadata": {
  "kernelspec": {
   "display_name": "Python 3",
   "language": "python",
   "name": "python3"
  },
  "language_info": {
   "codemirror_mode": {
    "name": "ipython",
    "version": 3
   },
   "file_extension": ".py",
   "mimetype": "text/x-python",
   "name": "python",
   "nbconvert_exporter": "python",
   "pygments_lexer": "ipython3",
   "version": "3.7.3"
  }
 },
 "nbformat": 4,
 "nbformat_minor": 4
}
